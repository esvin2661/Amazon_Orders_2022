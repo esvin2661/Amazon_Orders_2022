{
 "cells": [
  {
   "cell_type": "code",
   "execution_count": null,
   "id": "3439947a",
   "metadata": {},
   "outputs": [],
   "source": [
    "import plotly.express as px\n",
    "\n",
    "df = pd.read_csv('/Users/esvin/Desktop/Python Project /01-Jan-2022_to_31-Dec-2022.csv')\n",
    "df = df.fillna(0)\n",
    "df[\"Item Total\"] = df[\"Item Total\"].str.replace('$','',regex=False).astype(float)\n",
    "df[\"Item Subtotal\"] = df[\"Item Subtotal\"].str.replace('$','',regex=False).astype(float)\n",
    "df[\"Item Subtotal Tax\"] = df[\"Item Subtotal Tax\"].str.replace('$','',regex=False).astype(float)\n",
    "df['Order Date'] = pd.to_datetime(df['Order Date']).dt.date \n",
    "\n",
    "fig = px.bar(df, x=\"Order Date\", y=\"Item Total\")\n",
    "fig.show()"
   ]
  }
 ],
 "metadata": {
  "kernelspec": {
   "display_name": "Python 3 (ipykernel)",
   "language": "python",
   "name": "python3"
  },
  "language_info": {
   "codemirror_mode": {
    "name": "ipython",
    "version": 3
   },
   "file_extension": ".py",
   "mimetype": "text/x-python",
   "name": "python",
   "nbconvert_exporter": "python",
   "pygments_lexer": "ipython3",
   "version": "3.9.13"
  }
 },
 "nbformat": 4,
 "nbformat_minor": 5
}
